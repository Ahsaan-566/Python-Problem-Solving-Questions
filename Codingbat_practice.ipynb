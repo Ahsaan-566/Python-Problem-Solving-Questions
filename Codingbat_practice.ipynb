{
 "cells": [
  {
   "cell_type": "code",
   "execution_count": null,
   "metadata": {},
   "outputs": [],
   "source": [
    "#Warmup-2"
   ]
  },
  {
   "cell_type": "code",
   "execution_count": 7,
   "metadata": {},
   "outputs": [
    {
     "data": {
      "text/plain": [
       "'hellohellohello'"
      ]
     },
     "execution_count": 7,
     "metadata": {},
     "output_type": "execute_result"
    }
   ],
   "source": [
    "\"\"\"\n",
    "Given a string and a non-negative int n, return a larger string that is n copies of the original string.\n",
    "\n",
    "string_times('Hi', 2) → 'HiHi'\n",
    "string_times('Hi', 3) → 'HiHiHi'\n",
    "string_times('Hi', 1) → 'Hi'\n",
    "\"\"\"\n",
    "\n",
    "def string_times(str, n):\n",
    "    if n>=0:\n",
    "        return str*n\n",
    "    \n",
    "string_times('hello',3)"
   ]
  },
  {
   "cell_type": "code",
   "execution_count": 10,
   "metadata": {},
   "outputs": [
    {
     "data": {
      "text/plain": [
       "'DalDalDalDal'"
      ]
     },
     "execution_count": 10,
     "metadata": {},
     "output_type": "execute_result"
    }
   ],
   "source": [
    "\"\"\"\n",
    "Given a string and a non-negative int n, we'll say that the front of the string is the first 3 chars, or whatever is there if the string is less than length 3. Return n copies of the front;\n",
    "\n",
    "front_times('Chocolate', 2) → 'ChoCho'\n",
    "front_times('Chocolate', 3) → 'ChoChoCho'\n",
    "front_times('Abc', 3) → 'AbcAbcAbc'\n",
    "\"\"\"\n",
    "\n",
    "def front_times(str, n):\n",
    "    if n>=0:\n",
    "        return str[:3]*n\n",
    "    \n",
    "front_times('Dal',4)"
   ]
  },
  {
   "cell_type": "code",
   "execution_count": 12,
   "metadata": {},
   "outputs": [
    {
     "data": {
      "text/plain": [
       "'Hello'"
      ]
     },
     "execution_count": 12,
     "metadata": {},
     "output_type": "execute_result"
    }
   ],
   "source": [
    "\"\"\"\n",
    "Given a string, return a new string made of every other char starting with the first, so \"Hello\" yields \"Hlo\".\n",
    "\n",
    "string_bits('Hello') → 'Hlo'\n",
    "string_bits('Hi') → 'H'\n",
    "string_bits('Heeololeo') → 'Hello'\n",
    "\"\"\"\n",
    "def string_bits(str):\n",
    "    return str[::2]\n",
    "\n",
    "string_bits('Heeololeo')"
   ]
  },
  {
   "cell_type": "code",
   "execution_count": 19,
   "metadata": {},
   "outputs": [
    {
     "data": {
      "text/plain": [
       "'CCoCodCode'"
      ]
     },
     "execution_count": 19,
     "metadata": {},
     "output_type": "execute_result"
    }
   ],
   "source": [
    "\"\"\"\n",
    "Given a non-empty string like \"Code\" return a string like \"CCoCodCode\".\n",
    "\n",
    "string_splosion('Code') → 'CCoCodCode'\n",
    "string_splosion('abc') → 'aababc'\n",
    "string_splosion('ab') → 'aab'\n",
    "\"\"\"\n",
    "\n",
    "def string_splosion(str):\n",
    "    result = \"\"\n",
    "    for i in range(len(str)):\n",
    "        #return str[:1]+str[:2]+str[:3]+str[:4]\n",
    "        result += str[:i+1]\n",
    "    return result\n",
    "        \n",
    "\n",
    "string_splosion('Code')"
   ]
  },
  {
   "cell_type": "code",
   "execution_count": null,
   "metadata": {},
   "outputs": [],
   "source": [
    "\"\"\"\n",
    "Given a string, return the count of the number of times that a substring length 2 appears\n",
    "in the string and also as the last 2 chars of the string, so \"hixxxhi\" yields 1 (we won't count the end substring).\n",
    "\n",
    "last2('hixxhi') → 1\n",
    "last2('xaxxaxaxx') → 1\n",
    "last2('axxxaaxx') → 2\n",
    "\"\"\"\n",
    "\n",
    "def last2(str):\n",
    "    \n",
    "    "
   ]
  },
  {
   "cell_type": "code",
   "execution_count": 22,
   "metadata": {},
   "outputs": [
    {
     "data": {
      "text/plain": [
       "2"
      ]
     },
     "execution_count": 22,
     "metadata": {},
     "output_type": "execute_result"
    }
   ],
   "source": [
    "\"\"\"\n",
    "Given an array of ints, return the number of 9's in the array.\n",
    "\n",
    "array_count9([1, 2, 9]) → 1\n",
    "array_count9([1, 9, 9]) → 2\n",
    "array_count9([1, 9, 9, 3, 9]) → 3\n",
    "\"\"\"\n",
    "\n",
    "def array_count9(nums):\n",
    "    return nums.count(9)\n",
    "\n",
    "array_count9([1,2,9,9])"
   ]
  },
  {
   "cell_type": "code",
   "execution_count": null,
   "metadata": {},
   "outputs": [],
   "source": []
  },
  {
   "cell_type": "code",
   "execution_count": 29,
   "metadata": {},
   "outputs": [
    {
     "data": {
      "text/plain": [
       "True"
      ]
     },
     "execution_count": 29,
     "metadata": {},
     "output_type": "execute_result"
    }
   ],
   "source": []
  },
  {
   "cell_type": "code",
   "execution_count": 33,
   "metadata": {},
   "outputs": [
    {
     "data": {
      "text/plain": [
       "1"
      ]
     },
     "execution_count": 33,
     "metadata": {},
     "output_type": "execute_result"
    }
   ],
   "source": [
    "\"\"\"\n",
    "Given 3 int values, a b c, return their sum. However, if one of the values is 13 then it does not count\n",
    "towards the sum and values to its right do not count. So for example, if b is 13, then both b and c do not count.\n",
    "\n",
    "lucky_sum(1, 2, 3) → 6\n",
    "lucky_sum(1, 2, 13) → 3\n",
    "lucky_sum(1, 13, 3) → 1\n",
    "\"\"\"\n",
    "\n",
    "def lucky_sum(a, b, c):\n",
    "    if a==13:\n",
    "        return 0\n",
    "    elif b==13:\n",
    "        return a\n",
    "    elif c==13:\n",
    "        return a+b\n",
    "    else:\n",
    "        return a+b+c\n",
    "    \n",
    "lucky_sum(1, 13, 3)"
   ]
  },
  {
   "cell_type": "code",
   "execution_count": 35,
   "metadata": {},
   "outputs": [
    {
     "data": {
      "text/plain": [
       "'AAhhssaann'"
      ]
     },
     "execution_count": 35,
     "metadata": {},
     "output_type": "execute_result"
    }
   ],
   "source": [
    "#String 2\n",
    "\n",
    "\"\"\"\n",
    "Given a string, return a string where for every char in the original, there are two chars.\n",
    "\n",
    "double_char('The') → 'TThhee'\n",
    "double_char('AAbb') → 'AAAAbbbb'\n",
    "double_char('Hi-There') → 'HHii--TThheerree'\n",
    "\"\"\"\n",
    "\n",
    "def double_char(str):\n",
    "    result = \"\"\n",
    "    for i in range(len(str)):\n",
    "        result += (str[i]+str[i])\n",
    "    return result\n",
    "\n",
    "double_char('Ahsan')"
   ]
  },
  {
   "cell_type": "code",
   "execution_count": 68,
   "metadata": {},
   "outputs": [
    {
     "data": {
      "text/plain": [
       "2"
      ]
     },
     "execution_count": 68,
     "metadata": {},
     "output_type": "execute_result"
    }
   ],
   "source": [
    "\"\"\"\n",
    "Return the number of times that the string \"code\" appears anywhere in the given string, except we'll accept any letter for the 'd', so \"cope\" and \"cooe\" count.\n",
    "\n",
    "count_code('aaacodebbb') → 1\n",
    "count_code('codexxcode') → 2\n",
    "count_code('cozexxcope') → 2\n",
    "\"\"\"\n",
    "\n",
    "def count_code(str):\n",
    "    count = 0 \n",
    "    for i in range(0,len(str)-3):\n",
    "        if str[i]=='c' and str[i+1]=='o' and str[i+3]=='e':\n",
    "            count+=1\n",
    "    return count\n",
    "\n",
    "    \n",
    "count_code('cozexxcope')"
   ]
  },
  {
   "cell_type": "code",
   "execution_count": 46,
   "metadata": {},
   "outputs": [
    {
     "data": {
      "text/plain": [
       "8"
      ]
     },
     "execution_count": 46,
     "metadata": {},
     "output_type": "execute_result"
    }
   ],
   "source": [
    "#Fiboacci series\n",
    "def fib(m):\n",
    "    if m<0:\n",
    "        return \"Incorrect input\"\n",
    "    elif m==0:\n",
    "        return 0\n",
    "    elif m==1:\n",
    "        return 1\n",
    "    elif m==2:\n",
    "        return 1\n",
    "    else:\n",
    "        return fib(m-2)+fib(m-1)\n",
    "        \n",
    "fib(6)        "
   ]
  },
  {
   "cell_type": "code",
   "execution_count": 74,
   "metadata": {},
   "outputs": [
    {
     "data": {
      "text/plain": [
       "True"
      ]
     },
     "execution_count": 74,
     "metadata": {},
     "output_type": "execute_result"
    }
   ],
   "source": [
    "\"\"\"\n",
    "Return True if the given string contains an appearance of \"xyz\" where the xyz is not directly preceeded by a period (.). So \"xxyz\" counts but \"x.xyz\" does not.\n",
    "\n",
    "xyz_there('abcxyz') → True\n",
    "xyz_there('abc.xyz') → False\n",
    "xyz_there('xyz.abc') → True\n",
    "\"\"\"\n",
    "\n",
    "def xyz_there(str):\n",
    "    for i in range(len(str)):\n",
    "        if str[i] != '.' and str[i+1:i+4] == 'xyz':\n",
    "            return True\n",
    "        if str[0:3]=='xyz':\n",
    "            return True\n",
    "    return False\n",
    "\n",
    "xyz_there('xyz.abc')\n"
   ]
  },
  {
   "cell_type": "code",
   "execution_count": 79,
   "metadata": {},
   "outputs": [
    {
     "data": {
      "text/plain": [
       "True"
      ]
     },
     "execution_count": 79,
     "metadata": {},
     "output_type": "execute_result"
    }
   ],
   "source": [
    "\"\"\"\n",
    "Return True if the string \"cat\" and \"dog\" appear the same number of times in the given string.\n",
    "\n",
    "cat_dog('catdog') → True\n",
    "cat_dog('catcat') → False\n",
    "cat_dog('1cat1cadodog') → True\n",
    "\"\"\"\n",
    "\n",
    "def cat_dog(str):\n",
    "    countc = 0\n",
    "    countd = 0\n",
    "    for i in range(len(str)):\n",
    "        if str[i:i+3] == 'cat' or str[i:i+3] == 'dog':\n",
    "            if str[i:i+3] == 'cat':\n",
    "                countc+=1\n",
    "            elif str[i:i+3] == 'dog':\n",
    "                countd+=1\n",
    "    return countc == countd\n",
    "\n",
    "#cat_dog('catdog')\n",
    "#cat_dog('catcat')\n",
    "#cat_dog('1cat1cadodog')"
   ]
  },
  {
   "cell_type": "code",
   "execution_count": 81,
   "metadata": {},
   "outputs": [
    {
     "data": {
      "text/plain": [
       "2"
      ]
     },
     "execution_count": 81,
     "metadata": {},
     "output_type": "execute_result"
    }
   ],
   "source": [
    "\"\"\"\n",
    "Return the number of times that the string \"hi\" appears anywhere in the given string.\n",
    "\n",
    "count_hi('abc hi ho') → 1\n",
    "count_hi('ABChi hi') → 2\n",
    "count_hi('hihi') → 2\n",
    "\"\"\"\n",
    "\n",
    "def count_hi(str):\n",
    "    c = 0\n",
    "    for i in range(len(str)):\n",
    "        if str[i:i+2]=='hi':\n",
    "            c+=1\n",
    "    return c\n",
    "\n",
    "  "
   ]
  },
  {
   "cell_type": "code",
   "execution_count": null,
   "metadata": {},
   "outputs": [],
   "source": [
    "#Logic-2"
   ]
  },
  {
   "cell_type": "code",
   "execution_count": null,
   "metadata": {},
   "outputs": [],
   "source": [
    "\"\"\"\n",
    "We want to make a row of bricks that is goal inches long. We have a number of small bricks (1 inch each)\n",
    "and big bricks (5 inches each). Return True if it is possible to make the goal by choosing from the\n",
    "given bricks. This is a little harder than it looks and can be done without any loops.\n",
    "See also: Introduction to MakeBricks\n",
    "\n",
    "make_bricks(3, 1, 8) → True\n",
    "make_bricks(3, 1, 9) → False\n",
    "make_bricks(3, 2, 10) → True\n",
    "\"\"\"\n",
    "\n",
    "def make_bricks(small, big, goal):\n",
    "    big = big*5\n",
    "    \n",
    "    if goal > small+big:\n",
    "        return False\n",
    "    elif goal%5 > small:\n",
    "        return False\n",
    "    return True\n",
    "        \n",
    "make_bricks(3, 1, 8)"
   ]
  },
  {
   "cell_type": "code",
   "execution_count": 92,
   "metadata": {},
   "outputs": [
    {
     "data": {
      "text/plain": [
       "0"
      ]
     },
     "execution_count": 92,
     "metadata": {},
     "output_type": "execute_result"
    }
   ],
   "source": [
    "\"\"\"\n",
    "Given 3 int values, a b c, return their sum. However, if one of the values is the same as another\n",
    "of the values, it does not count towards the sum.\n",
    "\n",
    "lone_sum(1, 2, 3) → 6\n",
    "lone_sum(3, 2, 3) → 2\n",
    "lone_sum(3, 3, 3) → 0\n",
    "\"\"\"\n",
    "\n",
    "def lone_sum(a,b,c):\n",
    "    if a == b == c:\n",
    "        return 0\n",
    "    elif a==b:\n",
    "        return c\n",
    "    elif a==c:\n",
    "        return b\n",
    "    elif b==c:\n",
    "        return a\n",
    "    else:\n",
    "        return a+b+c\n",
    "\n",
    "lone_sum(3, 3, 3)\n",
    "    "
   ]
  },
  {
   "cell_type": "code",
   "execution_count": 99,
   "metadata": {},
   "outputs": [
    {
     "data": {
      "text/plain": [
       "3"
      ]
     },
     "execution_count": 99,
     "metadata": {},
     "output_type": "execute_result"
    }
   ],
   "source": [
    "\"\"\"\n",
    "Given 3 int values, a b c, return their sum. However, if any of the values is a \n",
    "teen -- in the range 13..19 inclusive -- then that value counts as 0, except 15 and 16\n",
    "do not count as a teens. Write a separate helper \"def fix_teen(n):\"that takes in an int value\n",
    "and returns that value fixed for the teen rule. In this way, you avoid repeating the teen code \n",
    "3 times (i.e. \"decomposition\"). Define the helper below and at the same indent level as the main no_teen_sum().\n",
    "\n",
    "no_teen_sum(1, 2, 3) → 6\n",
    "no_teen_sum(2, 13, 1) → 3\n",
    "no_teen_sum(2, 1, 14) → 3\n",
    "\"\"\"\n",
    "\n",
    "def no_teen_sum(a,b,c):\n",
    "    a = fix_teen(a)\n",
    "    b = fix_teen(b)\n",
    "    c = fix_teen(c)\n",
    "    return a+b+c\n",
    "\n",
    "def fix_teen(m):\n",
    "    if m>=13 and m<=19:\n",
    "        if m!=15 and m!=16:\n",
    "            return 0\n",
    "    return m\n",
    "\n",
    "no_teen_sum(2, 1, 14)"
   ]
  },
  {
   "cell_type": "code",
   "execution_count": 16,
   "metadata": {},
   "outputs": [
    {
     "data": {
      "text/plain": [
       "100"
      ]
     },
     "execution_count": 16,
     "metadata": {},
     "output_type": "execute_result"
    }
   ],
   "source": [
    "\"\"\"\n",
    "For this problem, we'll round an int value up to the next multiple of 10 if its rightmost digit is 5 or more,\n",
    "so 15 rounds up to 20. Alternately, round down to the previous multiple of 10 if its rightmost digit is less than 5,\n",
    "so 12 rounds down to 10. Given 3 ints, a b c, return the sum of their rounded values. To avoid code repetition,\n",
    "write a separate helper \"def round10(num):\" and call it 3 times.\n",
    "\n",
    "round_sum(16, 17, 18) → 60\n",
    "round_sum(12, 13, 14) → 30\n",
    "round_sum(6, 4, 4) → 10\n",
    "\"\"\"\n",
    "def round_sum(a,b,c):\n",
    "    return round10(a)+round10(b)+round10(c)\n",
    "    \n",
    "\n",
    "def round10(num):\n",
    "    if num%10 >= 5:\n",
    "        return num + (10-(num%10))\n",
    "    else:\n",
    "        return num - (num%10)\n"
   ]
  },
  {
   "cell_type": "code",
   "execution_count": null,
   "metadata": {},
   "outputs": [],
   "source": [
    "\"\"\"\n",
    "Given three ints, a b c, return True if one of b or c is \"close\" (differing from a by at most 1),\n",
    "while the other is \"far\", differing from both other values by 2 or more. Note: abs(num) computes\n",
    "the absolute value of a number.\n",
    "\n",
    "close_far(1, 2, 10) → True\n",
    "close_far(1, 2, 3) → False\n",
    "close_far(4, 1, 3) → True\n",
    "\"\"\"\n",
    "\n",
    "def close_far(a,b,c):\n",
    "    "
   ]
  },
  {
   "cell_type": "code",
   "execution_count": null,
   "metadata": {},
   "outputs": [],
   "source": [
    "\"\"\"\n",
    "We want make a package of goal kilos of chocolate. We have small bars (1 kilo each)\n",
    "and big bars (5 kilos each). Return the number of small bars to use, assuming we always\n",
    "use big bars before small bars. Return -1 if it can't be done.\n",
    "\n",
    "make_chocolate(4, 1, 9) → 4\n",
    "make_chocolate(4, 1, 10) → -1\n",
    "make_chocolate(4, 1, 7) → 2\n",
    "\"\"\"\n",
    "\n",
    "def make_chocolate(small, big, goal):\n",
    "    big = big*5\n",
    "    \n",
    "    if goal > small+big:\n",
    "        return -1\n",
    "    if goal%5 > small:\n",
    "        return -1\n",
    "    a = (goal%5) - (10-)\n",
    "    \n",
    "    "
   ]
  },
  {
   "cell_type": "code",
   "execution_count": null,
   "metadata": {},
   "outputs": [],
   "source": [
    "def make_chocolate(big, goal):\n",
    "    big=big*5\n",
    "    if big < goal:\n",
    "        return -1\n",
    "    if goal/5 > big/5:\n",
    "        return -1\n",
    "    \n",
    "make_chocolate(5,20)"
   ]
  },
  {
   "cell_type": "code",
   "execution_count": null,
   "metadata": {},
   "outputs": [],
   "source": [
    "#Logic-1"
   ]
  },
  {
   "cell_type": "code",
   "execution_count": 101,
   "metadata": {},
   "outputs": [
    {
     "data": {
      "text/plain": [
       "True"
      ]
     },
     "execution_count": 101,
     "metadata": {},
     "output_type": "execute_result"
    }
   ],
   "source": [
    "\"\"\"\n",
    "When squirrels get together for a party, they like to have cigars. A squirrel party is successful\n",
    "when the number of cigars is between 40 and 60, inclusive. Unless it is the weekend, in which case there \n",
    "is no upper bound on the number of cigars. Return True if the party with the given values is successful,\n",
    "or False otherwise.\n",
    "\n",
    "cigar_party(30, False) → False\n",
    "cigar_party(50, False) → True\n",
    "cigar_party(70, True) → True\n",
    "\"\"\"\n",
    "\n",
    "def cigar_party(cigar, isweekend):\n",
    "    if isweekend == True:\n",
    "        if cigar >= 40:\n",
    "            return True\n",
    "        \n",
    "    elif cigar >= 40 and cigar <= 60:\n",
    "            return True\n",
    "    return False\n",
    "        \n",
    "cigar_party(50, False)"
   ]
  },
  {
   "cell_type": "code",
   "execution_count": null,
   "metadata": {},
   "outputs": [],
   "source": [
    "\"\"\"\n",
    "You and your date are trying to get a table at a restaurant.\n",
    "The parameter \"you\" is the stylishness of your clothes, in the range 0..10,\n",
    "and \"date\" is the stylishness of your date's clothes. The result getting the\n",
    "table is encoded as an int value with 0=no, 1=maybe, 2=yes. If either of you is\n",
    "very stylish, 8 or more, then the result is 2 (yes). With the exception that if either\n",
    "of you has style of 2 or less, then the result is 0 (no). Otherwise the result is 1 (maybe).\n",
    "\n",
    "date_fashion(5, 10) → 2\n",
    "date_fashion(5, 2) → 0\n",
    "date_fashion(5, 5) → 1\n",
    "\"\"\"\n",
    "\n",
    "def date_fashion(you, date):\n",
    "    if you <= 2 or date <= 2:\n",
    "        return 0\n",
    "    elif you >= 8 or date >= 8:\n",
    "        return 2\n",
    "    return 1\n",
    "\n"
   ]
  },
  {
   "cell_type": "code",
   "execution_count": null,
   "metadata": {},
   "outputs": [],
   "source": [
    "\"\"\"\n",
    "The squirrels in Palo Alto spend most of the day playing. In particular,\n",
    "they play if the temperature is between 60 and 90 (inclusive). Unless it is summer,\n",
    "then the upper limit is 100 instead of 90. Given an int temperature and a boolean is_summer,\n",
    "return True if the squirrels play and False otherwise.\n",
    "\n",
    "squirrel_play(70, False) → True\n",
    "squirrel_play(95, False) → False\n",
    "squirrel_play(95, True) → True\n",
    "\"\"\"\n",
    "\n",
    "def squirrel_play(temp, is_summer):\n",
    "    if is_summer == True:\n",
    "        if temp >= 60 and temp <= 100:\n",
    "            return True\n",
    "    elif temp >= 60 and temp <= 90:\n",
    "        return True\n",
    "    return False"
   ]
  },
  {
   "cell_type": "code",
   "execution_count": null,
   "metadata": {},
   "outputs": [],
   "source": [
    "\"\"\"\n",
    "\n",
    "\"\"\""
   ]
  },
  {
   "cell_type": "code",
   "execution_count": null,
   "metadata": {},
   "outputs": [],
   "source": [
    "#list 1"
   ]
  },
  {
   "cell_type": "code",
   "execution_count": 110,
   "metadata": {},
   "outputs": [
    {
     "data": {
      "text/plain": [
       "True"
      ]
     },
     "execution_count": 110,
     "metadata": {},
     "output_type": "execute_result"
    }
   ],
   "source": [
    "\"\"\"\n",
    "Given an array of ints, return True if 6 appears as either the first or last element in the array.\n",
    "The array will be length 1 or more.\n",
    "\n",
    "first_last6([1, 2, 6]) → True\n",
    "first_last6([6, 1, 2, 3]) → True\n",
    "first_last6([13, 6, 1, 2, 3]) → False\n",
    "\"\"\"\n",
    "\n",
    "def first_last6(l):\n",
    "    for i in l:\n",
    "        if l[0] == 6 or l[-1] == 6:\n",
    "            return True\n",
    "    return False\n",
    "first_last6([6, 4, 6])"
   ]
  },
  {
   "cell_type": "code",
   "execution_count": 114,
   "metadata": {},
   "outputs": [
    {
     "data": {
      "text/plain": [
       "False"
      ]
     },
     "execution_count": 114,
     "metadata": {},
     "output_type": "execute_result"
    }
   ],
   "source": [
    "\"\"\"\n",
    "Given an array of ints, return True if the array is length 1 or more,\n",
    "and the first element and the last element are equal.\n",
    "\n",
    "same_first_last([1, 2, 3]) → False\n",
    "same_first_last([1, 2, 3, 1]) → True\n",
    "same_first_last([1, 2, 1]) → True\n",
    "\"\"\"\n",
    "\n",
    "def same_first_last(li):\n",
    "    if len(li) >= 1:\n",
    "        return li[0]==li[-1]\n",
    "    return False\n",
    "        \n",
    "same_first_last([5, 2, 3])"
   ]
  },
  {
   "cell_type": "code",
   "execution_count": 117,
   "metadata": {},
   "outputs": [
    {
     "data": {
      "text/plain": [
       "False"
      ]
     },
     "execution_count": 117,
     "metadata": {},
     "output_type": "execute_result"
    }
   ],
   "source": [
    "\"\"\"\n",
    "Given 2 arrays of ints, a and b, return True if they have the same first element\n",
    "or they have the same last element. Both arrays will be length 1 or more.\n",
    "\n",
    "common_end([1, 2, 3], [7, 3]) → True\n",
    "common_end([1, 2, 3], [7, 3, 2]) → False\n",
    "common_end([1, 2, 3], [1, 3]) → True\n",
    "\"\"\"\n",
    "def common_end(a,b):\n",
    "    if len(a) >= 1 and len(b) >=1:\n",
    "        if a[0] == b[0]:\n",
    "            return True\n",
    "        elif a[-1] == b[-1]:\n",
    "            return True\n",
    "        return False\n",
    "    return False\n",
    "\n",
    "common_end([4, 2, 5], [7, 3])"
   ]
  },
  {
   "cell_type": "code",
   "execution_count": 120,
   "metadata": {},
   "outputs": [
    {
     "data": {
      "text/plain": [
       "6"
      ]
     },
     "execution_count": 120,
     "metadata": {},
     "output_type": "execute_result"
    }
   ],
   "source": [
    "\"\"\"\n",
    "Given an array of ints length 3, return the sum of all the elements.\n",
    "\n",
    "sum3([1, 2, 3]) → 6\n",
    "sum3([5, 11, 2]) → 18\n",
    "sum3([7, 0, 0]) → 7\n",
    "\"\"\"\n",
    "\n",
    "def sum3(a):\n",
    "    if len(a) == 3:\n",
    "        return a[0]+a[1]+a[2]\n",
    "    return False\n",
    "sum3([1, 2, 3])"
   ]
  },
  {
   "cell_type": "code",
   "execution_count": 150,
   "metadata": {},
   "outputs": [
    {
     "data": {
      "text/plain": [
       "[11, 9, 5]"
      ]
     },
     "execution_count": 150,
     "metadata": {},
     "output_type": "execute_result"
    }
   ],
   "source": [
    "\"\"\"\n",
    "Given an array of ints length 3, return an array with the elements \"rotated left\" so {1, 2, 3} yields {2, 3, 1}.\n",
    "\n",
    "rotate_left3([1, 2, 3]) → [2, 3, 1]\n",
    "rotate_left3([5, 11, 9]) → [11, 9, 5]\n",
    "rotate_left3([7, 0, 0]) → [0, 0, 7]\n",
    "\"\"\"\n",
    "\n",
    "def rotate_left3(a):\n",
    "    for i in range(len(a)-1):\n",
    "        b = a[i]\n",
    "        a[i] = a[i+1]\n",
    "        a[i+1] = b\n",
    "    return a\n",
    "    \n",
    "rotate_left3([5,11,9])\n",
    "    \n",
    "    "
   ]
  },
  {
   "cell_type": "code",
   "execution_count": 157,
   "metadata": {},
   "outputs": [
    {
     "data": {
      "text/plain": [
       "[3, 2, 1]"
      ]
     },
     "execution_count": 157,
     "metadata": {},
     "output_type": "execute_result"
    }
   ],
   "source": [
    "\"\"\"\n",
    "Given an array of ints length 3, return a new array with the elements in reverse order, so {1, 2, 3} becomes {3, 2, 1}.\n",
    "\n",
    "reverse3([1, 2, 3]) → [3, 2, 1]\n",
    "reverse3([5, 11, 9]) → [9, 11, 5]\n",
    "reverse3([7, 0, 0]) → [0, 0, 7]\n",
    "\n",
    "\"\"\"\n",
    "\n",
    "def reverse3(a):\n",
    "    return list(reversed(a))\n",
    "    \n",
    "\n",
    "reverse3([1, 2, 3])"
   ]
  },
  {
   "cell_type": "code",
   "execution_count": 160,
   "metadata": {},
   "outputs": [
    {
     "data": {
      "text/plain": [
       "[5, 5, 5]"
      ]
     },
     "execution_count": 160,
     "metadata": {},
     "output_type": "execute_result"
    }
   ],
   "source": [
    "\"\"\"\n",
    "Given an array of ints length 3, figure out which is larger, the first or last element in the array,\n",
    "and set all the other elements to be that value. Return the changed array.\n",
    "\n",
    "max_end3([1, 2, 3]) → [3, 3, 3]\n",
    "max_end3([11, 5, 9]) → [11, 11, 11]\n",
    "max_end3([2, 11, 3]) → [3, 3, 3]\n",
    "\"\"\"\n",
    "\n",
    "def max_end3(a):\n",
    "    if a[0] > a[-1]:\n",
    "        for i in range(len(a)):\n",
    "            a[i] = a[0]\n",
    "        return a\n",
    "    else:\n",
    "        for i in range(len(a)):\n",
    "            a[i] = a[-1]\n",
    "        return a\n",
    "        \n",
    "max_end3([5, 2, 3])"
   ]
  },
  {
   "cell_type": "code",
   "execution_count": 167,
   "metadata": {},
   "outputs": [
    {
     "data": {
      "text/plain": [
       "7"
      ]
     },
     "execution_count": 167,
     "metadata": {},
     "output_type": "execute_result"
    }
   ],
   "source": [
    "\"\"\"\n",
    "Given an array of ints, return the sum of the first 2 elements in the array.\n",
    "If the array length is less than 2, just sum up the elements that exist, returning 0 if the array is length 0.\n",
    "\n",
    "sum2([1, 2, 3]) → 3\n",
    "sum2([1, 1]) → 2\n",
    "sum2([1, 1, 1, 1]) → 2\n",
    "\"\"\"\n",
    "\n",
    "def sum2(a):\n",
    "    if len(a) == 1:\n",
    "        return a[0]\n",
    "    elif len(a) >= 2:\n",
    "        return a[0]+a[1]\n",
    "    else:\n",
    "        return 0 \n",
    "    \n",
    "sum2([1,6,5,4])\n",
    "\n",
    "################# CONSULT #############"
   ]
  },
  {
   "cell_type": "code",
   "execution_count": 181,
   "metadata": {},
   "outputs": [
    {
     "name": "stdout",
     "output_type": "stream",
     "text": [
      "2\n"
     ]
    },
    {
     "data": {
      "text/plain": [
       "[6, 5]"
      ]
     },
     "execution_count": 181,
     "metadata": {},
     "output_type": "execute_result"
    }
   ],
   "source": [
    "\"\"\"\n",
    "Given 2 int arrays, a and b, each length 3, return a new array length 2 containing their middle elements.\n",
    "\n",
    "middle_way([1, 2, 3], [4, 5, 6]) → [2, 5]\n",
    "middle_way([7, 7, 7], [3, 8, 0]) → [7, 8]\n",
    "middle_way([5, 2, 9], [1, 4, 5]) → [2, 4]\n",
    "\"\"\"\n",
    "\n",
    "def middle_way(a,b):\n",
    "    c = a[len(a)/2]\n",
    "    d = b[len(b)/2]\n",
    "    return [c,d]\n",
    "\n",
    "middle_way([1, 6, 3],[9,5,7])"
   ]
  },
  {
   "cell_type": "code",
   "execution_count": 182,
   "metadata": {},
   "outputs": [
    {
     "data": {
      "text/plain": [
       "[1, 3]"
      ]
     },
     "execution_count": 182,
     "metadata": {},
     "output_type": "execute_result"
    }
   ],
   "source": [
    "\"\"\"\n",
    "Given an array of ints, return a new array length 2 containing the first and last elements from the original array.\n",
    "The original array will be length 1 or more.\n",
    "\n",
    "make_ends([1, 2, 3]) → [1, 3]\n",
    "make_ends([1, 2, 3, 4]) → [1, 4]\n",
    "make_ends([7, 4, 6, 2]) → [7, 2]\n",
    "\"\"\"\n",
    "\n",
    "def make_ends(a):\n",
    "    if len(a) >= 1:\n",
    "        b = a[0]\n",
    "        c = a[-1]\n",
    "    return [b,c]\n",
    "\n",
    "make_ends([1, 2, 3])\n",
    "    "
   ]
  },
  {
   "cell_type": "code",
   "execution_count": 187,
   "metadata": {},
   "outputs": [
    {
     "data": {
      "text/plain": [
       "True"
      ]
     },
     "execution_count": 187,
     "metadata": {},
     "output_type": "execute_result"
    }
   ],
   "source": [
    "\"\"\"\n",
    "Given an int array length 2, return True if it contains a 2 or a 3.\n",
    "\n",
    "has23([2, 5]) → True\n",
    "has23([4, 3]) → True\n",
    "has23([4, 5]) → False\n",
    "\"\"\"\n",
    "\n",
    "def has23(a):\n",
    "    for i in range(len(a)):\n",
    "        if a[i] == 2 or a[i] == 3:\n",
    "            return True\n",
    "    return False\n",
    "\n",
    "has23([1, 3])"
   ]
  },
  {
   "cell_type": "code",
   "execution_count": null,
   "metadata": {},
   "outputs": [],
   "source": [
    "#List-2"
   ]
  },
  {
   "cell_type": "code",
   "execution_count": 192,
   "metadata": {},
   "outputs": [
    {
     "data": {
      "text/plain": [
       "0"
      ]
     },
     "execution_count": 192,
     "metadata": {},
     "output_type": "execute_result"
    }
   ],
   "source": [
    "\"\"\"\n",
    "Return the number of even ints in the given array. Note: the % \"mod\" operator computes the remainder, e.g. 5 % 2 is 1.\n",
    "\n",
    "count_evens([2, 1, 2, 3, 4]) → 3\n",
    "count_evens([2, 2, 0]) → 3\n",
    "count_evens([1, 3, 5]) → 0\n",
    "\"\"\"\n",
    "\n",
    "def count_evens(a):\n",
    "    c = 0\n",
    "    for i in range(len(a)):\n",
    "        if a[i]%2 == 0:\n",
    "            c += 1\n",
    "    return c\n",
    "    \n",
    "count_evens([7, 1, 1, 3])\n",
    "    "
   ]
  },
  {
   "cell_type": "code",
   "execution_count": 195,
   "metadata": {},
   "outputs": [],
   "source": [
    "\"\"\"\n",
    "Given an array length 1 or more of ints, return the difference between the largest and smallest values\n",
    "in the array. Note: the built-in min(v1, v2) and max(v1, v2) functions return the smaller or larger of two values.\n",
    "\n",
    "big_diff([10, 3, 5, 6]) → 7\n",
    "big_diff([7, 2, 10, 9]) → 8\n",
    "big_diff([2, 10, 7, 2]) → 8\n",
    "\"\"\"\n",
    "\n",
    "def big_diff(a):\n",
    "    if len(a) >= 1:\n",
    "        return max(a)-min(a)\n",
    "\n",
    "big_diff([])"
   ]
  },
  {
   "cell_type": "code",
   "execution_count": 246,
   "metadata": {},
   "outputs": [
    {
     "name": "stdout",
     "output_type": "stream",
     "text": [
      "count_max:  1\n",
      "0\n",
      "count_min:  1\n",
      "-10\n"
     ]
    },
    {
     "data": {
      "text/plain": [
       "-3"
      ]
     },
     "execution_count": 246,
     "metadata": {},
     "output_type": "execute_result"
    }
   ],
   "source": [
    "\"\"\"\n",
    "Return the \"centered\" average of an array of ints,\n",
    "which we'll say is the mean average of the values, except ignoring\n",
    "the largest and smallest values in the array. If there are multiple\n",
    "copies of the smallest value, ignore just one copy, and likewise for\n",
    "the largest value. Use int division to produce the final average.\n",
    "You may assume that the array is length 3 or more.\n",
    "\n",
    "centered_average([1, 2, 3, 4, 100]) → 3\n",
    "centered_average([1, 1, 5, 5, 10, 8, 7]) → 5\n",
    "centered_average([-10, -4, -2, -4, -2, 0]) → -3\n",
    "\"\"\"\n",
    "\n",
    "# a = [1,2,3,4]\n",
    "# a.pop(a.index(max(a)))\n",
    "# # a.pop(b)\n",
    "# print a\n",
    "\n",
    "def centered_average(a):\n",
    "    if len(a) >= 3:\n",
    "        b =  max(a)\n",
    "        c =  min(a)\n",
    "        \n",
    "        count_max = 0\n",
    "        count_min = 0\n",
    "        max_copy = 0\n",
    "        min_copy = 0\n",
    "        \n",
    "        for i in range(len(a)):\n",
    "            if a[i] == b:\n",
    "                max_copy = a[i]\n",
    "                count_max += 1\n",
    "                \n",
    "            elif a[i] == c:\n",
    "                min_copy = a[i]\n",
    "                count_min += 1\n",
    "                \n",
    "        print \"count_max: \",count_max\n",
    "        print max_copy\n",
    "        print \"count_min: \",count_min\n",
    "        print min_copy\n",
    "        \n",
    "        if count_max > 0:\n",
    "            a.remove(max_copy)\n",
    "        if count_min > 0:\n",
    "            a.remove(min_copy)\n",
    "        \n",
    "        return ave(a)\n",
    "                \n",
    "def ave(a):\n",
    "    s = 0\n",
    "    for i in range(len(a)):\n",
    "        s += a[i]\n",
    "    return s/len(a)\n",
    "    \n",
    "                \n",
    "centered_average([-10, -4, -2, -4, -2, 0])\n",
    "# ave([2,3,1,4,1])\n",
    "         "
   ]
  },
  {
   "cell_type": "code",
   "execution_count": 9,
   "metadata": {},
   "outputs": [
    {
     "data": {
      "text/plain": [
       "6"
      ]
     },
     "execution_count": 9,
     "metadata": {},
     "output_type": "execute_result"
    }
   ],
   "source": [
    "\"\"\"\n",
    "Return the sum of the numbers in the array, returning 0 for an empty array. \n",
    "Except the number 13 is very unlucky, so it does not count and numbers that\n",
    "come immediately after a 13 also do not count.\n",
    "\n",
    "sum13([1, 2, 2, 1]) → 6\n",
    "sum13([1, 1]) → 2\n",
    "sum13([1, 2, 2, 1, 13]) → 6\n",
    "\"\"\"\n",
    "\n",
    "def sum13(a):\n",
    "    sum = 0\n",
    "    skip = False\n",
    "    if len(a) == 0:\n",
    "        return 0\n",
    "    else:\n",
    "        if a[-1]==13: \n",
    "            a.remove(a[-1])\n",
    "        \n",
    "        for i in range(len(a)):\n",
    "            if a[i]==13:\n",
    "                skip = True\n",
    "                continue\n",
    "            elif skip==True:\n",
    "                skip=False\n",
    "                continue\n",
    "            sum += a[i]\n",
    "        return sum\n",
    "    \n",
    "sum13([1, 2, 2, 1, 13, 5])"
   ]
  },
  {
   "cell_type": "code",
   "execution_count": 8,
   "metadata": {},
   "outputs": [
    {
     "data": {
      "text/plain": [
       "4"
      ]
     },
     "execution_count": 8,
     "metadata": {},
     "output_type": "execute_result"
    }
   ],
   "source": [
    "\"\"\"\n",
    "Return the sum of the numbers in the array,\n",
    "except ignore sections of numbers starting with\n",
    "a 6 and extending to the next 7 (every 6 will be followed by at least one 7). Return 0 for no numbers.\n",
    "\n",
    "sum67([1, 2, 2]) → 5\n",
    "sum67([1, 2, 2, 6, 99, 99, 7]) → 5\n",
    "sum67([1, 1, 6, 7, 2]) → 4\n",
    "\"\"\"\n",
    "\n",
    "def sum67(a):\n",
    "    sum = 0\n",
    "    skip =  False\n",
    "    for i in range(len(a)):\n",
    "        if a[i]==6:\n",
    "            skip = True\n",
    "            continue\n",
    "        if skip==True:\n",
    "            if a[i]==7:\n",
    "                skip = False\n",
    "            continue\n",
    "        sum+=a[i]\n",
    "    return sum\n",
    "\n",
    "sum67([1, 1, 6, 7, 2])\n",
    "            \n",
    "    "
   ]
  },
  {
   "cell_type": "code",
   "execution_count": 279,
   "metadata": {},
   "outputs": [
    {
     "data": {
      "text/plain": [
       "True"
      ]
     },
     "execution_count": 279,
     "metadata": {},
     "output_type": "execute_result"
    }
   ],
   "source": [
    "\"\"\"\n",
    "Given an array of ints, return True if the array contains a 2 next to a 2 somewhere.\n",
    "\n",
    "has22([1, 2, 2]) → True\n",
    "has22([1, 2, 1, 2]) → False\n",
    "has22([2, 1, 2]) → False\n",
    "\"\"\"\n",
    "\n",
    "def has22(a):\n",
    "    for i in range(len(a)-1):\n",
    "        if a[i]==2 and a[i+1]==2:\n",
    "            return True\n",
    "    return False\n",
    "\n",
    "has22([2, 2, 2])"
   ]
  }
 ],
 "metadata": {
  "kernelspec": {
   "display_name": "Python 3",
   "language": "python",
   "name": "python3"
  },
  "language_info": {
   "codemirror_mode": {
    "name": "ipython",
    "version": 3
   },
   "file_extension": ".py",
   "mimetype": "text/x-python",
   "name": "python",
   "nbconvert_exporter": "python",
   "pygments_lexer": "ipython3",
   "version": "3.6.4"
  }
 },
 "nbformat": 4,
 "nbformat_minor": 2
}
